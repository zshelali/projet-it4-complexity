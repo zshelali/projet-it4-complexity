{
 "cells": [
  {
   "cell_type": "code",
   "execution_count": 1,
   "id": "4f75c716",
   "metadata": {},
   "outputs": [],
   "source": [
    "import random\n",
    "import time\n",
    "import matplotlib.pyplot as plt\n",
    "import copy\n",
    "import sys"
   ]
  },
  {
   "cell_type": "code",
   "execution_count": 2,
   "id": "3d23ed99",
   "metadata": {},
   "outputs": [],
   "source": [
    "sys.setrecursionlimit(10000)"
   ]
  },
  {
   "cell_type": "markdown",
   "id": "c977fb26",
   "metadata": {},
   "source": [
    "# Fonctions Utiles\n",
    "\n",
    "Les deux fonctions données plus bas sont utiles pour tester si un tableau ou un ensemble de tableaux sont bien\n",
    "triés par ordre ascendant.\n"
   ]
  },
  {
   "cell_type": "code",
   "execution_count": 3,
   "id": "77dfda58",
   "metadata": {},
   "outputs": [],
   "source": [
    "def isSorted(l):\n",
    "    for i in range(len(l) - 1):\n",
    "        if l[i] > l[i + 1]: return False\n",
    "    return True\n",
    "\n",
    "def areSorted(ll):\n",
    "    for i in range(len(ll)):\n",
    "        if not isSorted(ll[i]): return (False, i)\n",
    "    return (True, 0)"
   ]
  },
  {
   "cell_type": "markdown",
   "id": "8454d2ea",
   "metadata": {},
   "source": [
    "# Création des tableaux\n",
    "\n",
    "La fonction __create\\_data__ permet de créer des listes qui contiennent les tableaux à trier avec des tailles\n",
    "croissantes. Les paramètres par défaut sont 15 tableaux, et des tailles de tableaux qui augmentent  par incrément de 200. Par défaut, le plus petit tableau aura 200 éléments, le plus grand aura 3000 éléments."
   ]
  },
  {
   "cell_type": "code",
   "execution_count": 4,
   "id": "7c098169",
   "metadata": {},
   "outputs": [],
   "source": [
    "def create_data(nlist=15, nval=200):\n",
    "    \n",
    "    # Création de listes de taille incrémentale et de contenu aléatoire\n",
    "    listDataRandom = []\n",
    "    listDataSorted = []\n",
    "    listDataInversedSorted = []\n",
    "    sizeArrays = []\n",
    "    \n",
    "    # Remplissage des listes\n",
    "    for i in range(1, nlist + 1):\n",
    "        s = nval * i \n",
    "        dataRandom = s*[0]\n",
    "        dataSorted = s*[0]\n",
    "        dataInversed = s*[0]\n",
    "        for j in range(s):\n",
    "            dataRandom[j]=j\n",
    "            dataSorted[j]=j\n",
    "            dataInversed[j]=j\n",
    "            \n",
    "        dataInversed.reverse()\n",
    "        random.shuffle(dataRandom)\n",
    "        \n",
    "        listDataRandom.append(dataRandom)\n",
    "        listDataSorted.append(dataSorted)\n",
    "        listDataInversedSorted.append(dataInversed)\n",
    "        sizeArrays.append(s)\n",
    "\n",
    "    return(sizeArrays, listDataRandom, listDataSorted, listDataInversedSorted)\n"
   ]
  },
  {
   "cell_type": "markdown",
   "id": "4b939345",
   "metadata": {},
   "source": [
    "# Tri des tableaux\n",
    "\n",
    "La fonction **executerTri** prend en entrée :\n",
    "\n",
    "- la fonction qui va effectuer le tri **fct_tri**\n",
    "- la couleur des tracés **color**\n",
    "- le nom de l'algorithme de tri **nom**\n",
    "- le nombre de tableaux **nlist** (utilisé par **create_data**)\n",
    "- le nombre de valeurs dans le premier tableau **nval**  (utilisé par **create_data**)\n",
    "- un booléen qui indique si le tableau est trié **surplace** ou si le tableau trié est renvoyé comme résultat de la fonction de tri\n",
    "\n"
   ]
  },
  {
   "cell_type": "code",
   "execution_count": 5,
   "id": "27693112",
   "metadata": {},
   "outputs": [],
   "source": [
    "def executerTri(fct_tri, color, nom, nlist=15, nval=200, surplace = True):\n",
    "    \n",
    "    axis, listDataRandom, listDataSorted, listDataInvertedSorted = create_data(nlist, nval)\n",
    "    \n",
    "    toplotRandom = []\n",
    "    toplotSorted = []\n",
    "    toplotInverted = []\n",
    "    \n",
    "    dataTestRandom    = copy.deepcopy(listDataRandom)\n",
    "    dataTestSorted    = copy.deepcopy(listDataSorted)\n",
    "    dataTestInverted  = copy.deepcopy(listDataInvertedSorted)\n",
    "    \n",
    "    for i in range(len(axis)):\n",
    "        time1 = time.time()\n",
    "        if surplace:\n",
    "            fct_tri(dataTestRandom[i])\n",
    "        else:\n",
    "            dataTestRandom[i] = fct_tri(dataTestRandom[i])\n",
    "        time2 = time.time()\n",
    "        toplotRandom.append(time2 - time1)\n",
    "        time3 = time.time()\n",
    "        if surplace:\n",
    "            fct_tri(dataTestSorted[i])\n",
    "        else:\n",
    "            dataTestSorted[i] = fct_tri(dataTestSorted[i])\n",
    "        time4 = time.time()\n",
    "        toplotSorted.append(time4 - time3)\n",
    "        time5 = time.time()\n",
    "        if surplace:\n",
    "            fct_tri(dataTestInverted[i])\n",
    "        else:\n",
    "            dataTestInverted[i] = fct_tri(dataTestInverted[i])\n",
    "        time6 = time.time()\n",
    "        toplotInverted.append(time6 - time5)\n",
    "\n",
    "    (ok1, ipb1) = areSorted(dataTestRandom)\n",
    "    (ok2, ipb2) = areSorted(dataTestSorted)\n",
    "    (ok3, ipb3) = areSorted(dataTestInverted)\n",
    "    \n",
    "    if not ok1:\n",
    "        print(nom + ' data random incorrect, liste #' + str(ipb1))\n",
    "    else:\n",
    "        plt.plot(axis, toplotRandom, '-' + color, label=nom + ' (random)')\n",
    "    if not ok2:\n",
    "        print(nom + ' data Sorted incorrect, liste #' + str(ipb2))\n",
    "    else:\n",
    "        plt.plot(axis, toplotSorted, '--' + color, label=nom + ' (Sorted)')\n",
    "\n",
    "    if not ok3:\n",
    "        print(nom + ' data Inverted incorrect, liste #' + str(ipb3))\n",
    "    else:\n",
    "        plt.plot(axis, toplotInverted, ':' + color, label=nom + ' (Inverted)')\n",
    "        plt.legend()\n"
   ]
  },
  {
   "cell_type": "markdown",
   "id": "cc7e7e08",
   "metadata": {},
   "source": [
    "# Algorithmes de tri"
   ]
  },
  {
   "cell_type": "markdown",
   "id": "b55c5487-622f-49cb-ad06-6e5ae86be1bc",
   "metadata": {},
   "source": [
    "## Bubble sort"
   ]
  },
  {
   "cell_type": "code",
   "execution_count": 6,
   "id": "d481e512",
   "metadata": {},
   "outputs": [],
   "source": [
    "def bubble_sort(A):\n",
    "    n = len(A)\n",
    "    flag = 1\n",
    "    for i in range(n-1):\n",
    "        flag = 0\n",
    "        for j in range(n-1-i):\n",
    "            if A[j]>A[j+1]:            \n",
    "                t = A[j]\n",
    "                A[j]=A[j+1]\n",
    "                A[j+1] = t\n",
    "                flag = 1\n",
    "        if flag == 0:\n",
    "            break\n",
    "    return A"
   ]
  },
  {
   "cell_type": "markdown",
   "id": "1bd6b8a7-8410-4fff-9191-9acc840daf63",
   "metadata": {},
   "source": [
    "## Insertion sort"
   ]
  },
  {
   "cell_type": "code",
   "execution_count": 7,
   "id": "30660e0f-bafb-47d9-8db2-82f402f684cb",
   "metadata": {},
   "outputs": [
    {
     "name": "stdout",
     "output_type": "stream",
     "text": [
      "[0, 1, 6, 10, 14, 392]\n"
     ]
    }
   ],
   "source": [
    "def insertion_sort(A):\n",
    "    for i in range(1, len(A)):\n",
    "        key = A[i]\n",
    "        j = i-1\n",
    "        while key < A[j] and j>=0 :\n",
    "            A[j+1] = A[j]\n",
    "            j-=1\n",
    "        A[j+1] = key\n",
    "    return A\n",
    "\n",
    "print(insertion_sort([10,14,6,392,0,1]))"
   ]
  },
  {
   "cell_type": "markdown",
   "id": "5aa0711f-0c07-46d6-86ef-697337a01b31",
   "metadata": {},
   "source": [
    "## Selection sort"
   ]
  },
  {
   "cell_type": "code",
   "execution_count": 8,
   "id": "7364612a-49eb-49b0-bf85-43e3ef998ed5",
   "metadata": {},
   "outputs": [
    {
     "name": "stdout",
     "output_type": "stream",
     "text": [
      "[0, 1, 6, 10, 14, 392]\n"
     ]
    }
   ],
   "source": [
    "def selection_sort(A):\n",
    "    for i in range(len(A)):\n",
    "        min_ind = i\n",
    "        for j in range(i+1, len(A)):\n",
    "            if A[j] < A[min_ind]:\n",
    "                min_ind = j\n",
    "        temp = A[min_ind]\n",
    "        A[min_ind] = A[i]\n",
    "        A[i] = temp\n",
    "        \n",
    "    return A\n",
    "\n",
    "print(selection_sort([10,14,6,392,0,1]))"
   ]
  },
  {
   "cell_type": "markdown",
   "id": "8d33bc82-98a6-42af-97d2-5653ab59e114",
   "metadata": {},
   "source": [
    "## Heap sort \n",
    "**Made by ChatGPT**"
   ]
  },
  {
   "cell_type": "code",
   "execution_count": 9,
   "id": "20862fe9-d492-452f-9b7f-d8077757781d",
   "metadata": {},
   "outputs": [
    {
     "name": "stdout",
     "output_type": "stream",
     "text": [
      "Sorted array is: [0, 1, 6, 10, 14, 392]\n"
     ]
    }
   ],
   "source": [
    "# Function to heapify a subtree rooted at index i\n",
    "# n is the size of the heap\n",
    "def heapify(arr, n, i):\n",
    "    largest = i  # Initialize largest as root\n",
    "    left = 2 * i + 1  # Left child\n",
    "    right = 2 * i + 2  # Right child\n",
    "\n",
    "    # If the left child exists and is greater than the root\n",
    "    if left < n and arr[left] > arr[largest]:\n",
    "        largest = left\n",
    "\n",
    "    # If the right child exists and is greater than the current largest\n",
    "    if right < n and arr[right] > arr[largest]:\n",
    "        largest = right\n",
    "\n",
    "    # If the largest is not the root, swap and continue heapifying\n",
    "    if largest != i:\n",
    "        arr[i], arr[largest] = arr[largest], arr[i]  # Swap\n",
    "        # Heapify the affected subtree\n",
    "        heapify(arr, n, largest)\n",
    "\n",
    "# Main function to perform heap sort\n",
    "def heap_sort(arr):\n",
    "    n = len(arr)\n",
    "\n",
    "    # Build a max heap by calling heapify for all non-leaf nodes\n",
    "    for i in range(n // 2 - 1, -1, -1):\n",
    "        heapify(arr, n, i)\n",
    "\n",
    "    # Extract elements one by one from the heap\n",
    "    for i in range(n - 1, 0, -1):\n",
    "        # Move the current root (largest) to the end\n",
    "        arr[i], arr[0] = arr[0], arr[i]\n",
    "        # Call heapify on the reduced heap\n",
    "        heapify(arr, i, 0)\n",
    "\n",
    "# Example usage:\n",
    "arr = [10, 14, 6, 392, 0, 1]\n",
    "heap_sort(arr)\n",
    "print(\"Sorted array is:\", arr)"
   ]
  },
  {
   "cell_type": "markdown",
   "id": "4be09f1e-135b-4062-b4e0-80bc59f087c8",
   "metadata": {},
   "source": [
    "## Quick sort (itératif)\n",
    "**Made by ChatGPT**"
   ]
  },
  {
   "cell_type": "code",
   "execution_count": 11,
   "id": "9f5d8909-63cd-4cf6-8452-bde884932946",
   "metadata": {},
   "outputs": [
    {
     "name": "stdout",
     "output_type": "stream",
     "text": [
      "Sorted array: [1, 1, 2, 3, 6, 8, 10]\n"
     ]
    }
   ],
   "source": [
    "def quick_sort(arr):\n",
    "    if len(arr) <= 1:\n",
    "        return arr\n",
    "    \n",
    "    stack = [(0, len(arr) - 1)]\n",
    "\n",
    "    while stack:\n",
    "        low, high = stack.pop()\n",
    "\n",
    "        if low < high:\n",
    "            pivot_index = partition(arr, low, high)\n",
    "            \n",
    "            # Push subarray indices to stack\n",
    "            stack.append((low, pivot_index - 1))\n",
    "            stack.append((pivot_index + 1, high))\n",
    "    \n",
    "    return arr\n",
    "\n",
    "def partition(arr, low, high):\n",
    "    pivot = arr[high]\n",
    "    i = low - 1\n",
    "    \n",
    "    for j in range(low, high):\n",
    "        if arr[j] <= pivot:\n",
    "            i += 1\n",
    "            arr[i], arr[j] = arr[j], arr[i]\n",
    "    \n",
    "    arr[i + 1], arr[high] = arr[high], arr[i + 1]\n",
    "    return i + 1\n",
    "\n",
    "# Example usage\n",
    "arr = [3, 6, 8, 10, 1, 2, 1]\n",
    "sorted_arr = quick_sort(arr)\n",
    "print(f\"Sorted array: {sorted_arr}\")"
   ]
  },
  {
   "cell_type": "markdown",
   "id": "fa38e12d-2513-480a-a53f-3e45e2a722bd",
   "metadata": {},
   "source": [
    "## Quick sort (récursif)\n",
    "**Made by ChatGPT**"
   ]
  },
  {
   "cell_type": "code",
   "execution_count": 13,
   "id": "396b0607-9119-411a-a88c-4f805984a0ab",
   "metadata": {},
   "outputs": [
    {
     "name": "stdout",
     "output_type": "stream",
     "text": [
      "Sorted array: [1, 1, 2, 3, 6, 8, 10]\n"
     ]
    }
   ],
   "source": [
    "def quick_sort(arr):\n",
    "    if len(arr) <= 1:\n",
    "        return arr\n",
    "    pivot = arr[len(arr) // 2]\n",
    "    left = [x for x in arr if x < pivot]\n",
    "    middle = [x for x in arr if x == pivot]\n",
    "    right = [x for x in arr if x > pivot]\n",
    "    return quick_sort(left) + middle + quick_sort(right)\n",
    "\n",
    "# Example usage\n",
    "arr = [3, 6, 8, 10, 1, 2, 1]\n",
    "sorted_arr = quick_sort(arr)\n",
    "print(f\"Sorted array: {sorted_arr}\")"
   ]
  },
  {
   "cell_type": "markdown",
   "id": "aa1ba03c-e1c0-41fb-bdba-b17c5e05099e",
   "metadata": {},
   "source": [
    "## Merge sort \n",
    "**Made by ChatGPT**"
   ]
  },
  {
   "cell_type": "code",
   "execution_count": 14,
   "id": "79628752-7f98-423e-92e7-e103cc1907f9",
   "metadata": {},
   "outputs": [
    {
     "name": "stdout",
     "output_type": "stream",
     "text": [
      "Sorted array: [1, 1, 2, 3, 6, 8, 10]\n"
     ]
    }
   ],
   "source": [
    "def merge_sort(arr):\n",
    "    width = 1\n",
    "    n = len(arr)\n",
    "    # Iteratively merge subarrays\n",
    "    while width < n:\n",
    "        for i in range(0, n, 2 * width):\n",
    "            left = i\n",
    "            mid = min(i + width, n)\n",
    "            right = min(i + 2 * width, n)\n",
    "            merged = merge(arr[left:mid], arr[mid:right])\n",
    "            arr[left:right] = merged\n",
    "        width *= 2\n",
    "    return arr\n",
    "\n",
    "def merge(left, right):\n",
    "    result = []\n",
    "    i = j = 0\n",
    "    # Merge two sorted subarrays\n",
    "    while i < len(left) and j < len(right):\n",
    "        if left[i] <= right[j]:\n",
    "            result.append(left[i])\n",
    "            i += 1\n",
    "        else:\n",
    "            result.append(right[j])\n",
    "            j += 1\n",
    "    result.extend(left[i:])\n",
    "    result.extend(right[j:])\n",
    "    return result\n",
    "\n",
    "# Example usage\n",
    "arr = [3, 6, 8, 10, 1, 2, 1]\n",
    "sorted_arr = merge_sort(arr)\n",
    "print(f\"Sorted array: {sorted_arr}\")"
   ]
  },
  {
   "cell_type": "markdown",
   "id": "a58ba16e",
   "metadata": {},
   "source": [
    "# Complexité empirique\n",
    "\n",
    "le résultat de **executer_tri** avec l'algorithme **bubble_sort** est donné en exemple"
   ]
  },
  {
   "cell_type": "code",
   "execution_count": 12,
   "id": "5cad9110",
   "metadata": {},
   "outputs": [
    {
     "data": {
      "image/png": "[encoded data removed]",
      "text/plain": [
       "<Figure size 640x480 with 1 Axes>"
      ]
     },
     "metadata": {},
     "output_type": "display_data"
    }
   ],
   "source": [
    "executerTri(bubble_sort,'r','Bubble sort')"
   ]
  }
 ],
 "metadata": {
  "kernelspec": {
   "display_name": "Python 3 (ipykernel)",
   "language": "python",
   "name": "python3"
  },
  "language_info": {
   "codemirror_mode": {
    "name": "ipython",
    "version": 3
   },
   "file_extension": ".py",
   "mimetype": "text/x-python",
   "name": "python",
   "nbconvert_exporter": "python",
   "pygments_lexer": "ipython3",
   "version": "3.12.6"
  }
 },
 "nbformat": 4,
 "nbformat_minor": 5
}
